{
 "cells": [
  {
   "cell_type": "code",
   "execution_count": 69,
   "id": "2da434b4",
   "metadata": {},
   "outputs": [],
   "source": [
    "import json\n",
    "import csv\n",
    "import random\n",
    "import pandas as pd\n",
    " \n",
    " \n",
    "# Opening JSON file and loading the data\n",
    "# into the variable data\n",
    "with open('20230130.json') as json_file:\n",
    "    data = json.load(json_file)\n",
    " \n",
    "employee_data = data['objects']\n",
    " \n",
    "# now we will open a file for writing\n",
    "data_file = open('20230130.csv', 'w')\n",
    " \n",
    "# create the csv writer object\n",
    "csv_writer = csv.writer(data_file)\n",
    " \n",
    "# Counter variable used for writing\n",
    "# headers to the CSV file\n",
    "count = 0\n",
    " \n",
    "for emp in employee_data:\n",
    "    if count == 0:\n",
    " \n",
    "        # Writing headers of CSV file\n",
    "        header = emp.keys()\n",
    "        csv_writer.writerow(header)\n",
    "        count += 1\n",
    " \n",
    "    # Writing data of CSV file\n",
    "    csv_writer.writerow(emp.values())\n",
    " \n",
    "data_file.close()"
   ]
  },
  {
   "cell_type": "code",
   "execution_count": 70,
   "id": "7f3bffed",
   "metadata": {},
   "outputs": [
    {
     "name": "stdout",
     "output_type": "stream",
     "text": [
      "            id      address_v4                              address_v6  \\\n",
      "239    1000234             NaN  2a01:598:b9a3:9b97:dea6:32ff:fe23:6be1   \n",
      "409    1000402    89.24.32.132                                     NaN   \n",
      "453    1000446  178.159.242.69                                     NaN   \n",
      "490    1000483   145.40.222.34                    2a0e:b102:170:50::31   \n",
      "511    1000503             NaN                                     NaN   \n",
      "...        ...             ...                                     ...   \n",
      "38016    62505  172.58.174.186                                     NaN   \n",
      "38093    62684  217.178.24.147                                     NaN   \n",
      "38098    62696    172.58.87.31  2607:fb90:fa04:8dc5:da58:d7ff:fe03:14c   \n",
      "38178    62868     98.97.39.44                                     NaN   \n",
      "38921      689  143.238.136.79  2001:8003:3835:9901:220:4aff:fec5:5892   \n",
      "\n",
      "        asn_v4    asn_v6         prefix_v4            prefix_v6  is_anchor  \\\n",
      "239        NaN    3320.0               NaN        2a01:598::/29      False   \n",
      "409    13036.0       NaN      89.24.0.0/17                  NaN      False   \n",
      "453     6697.0       NaN  178.159.240.0/21                  NaN      False   \n",
      "490     8758.0  209105.0   145.40.192.0/19   2a0e:b102:170::/44      False   \n",
      "511     6730.0       NaN    194.230.0.0/16                  NaN      False   \n",
      "...        ...       ...               ...                  ...        ...   \n",
      "38016  21928.0       NaN   172.58.168.0/21                  NaN      False   \n",
      "38093  55391.0       NaN    217.178.0.0/18                  NaN      False   \n",
      "38098  21928.0   21928.0    172.58.80.0/21  2607:fb90:fa00::/40      False   \n",
      "38178  14593.0       NaN     98.97.32.0/21                  NaN      False   \n",
      "38921   1221.0    1221.0    143.238.0.0/16       2001:8000::/20      False   \n",
      "\n",
      "       is_public  status  status_since  first_connected  total_uptime  \\\n",
      "239         True       1    1674648077     1.582125e+09      92589256   \n",
      "409         True       1    1675127245     1.586802e+09      81929256   \n",
      "453         True       1    1666681247     1.587250e+09      87858203   \n",
      "490         True       1    1674798259     1.588234e+09      84257997   \n",
      "511        False       1    1674189191     1.588768e+09      82378033   \n",
      "...          ...     ...           ...              ...           ...   \n",
      "38016       True       1    1674918115     1.671362e+09       3757770   \n",
      "38093       True       1    1675129806     1.668569e+09       5911375   \n",
      "38098       True       1    1675014100     1.670453e+09       2449214   \n",
      "38178       True       1    1674820156     1.670530e+09       4582421   \n",
      "38921       True       1    1674774742     1.337993e+09     281527929   \n",
      "\n",
      "                                                    tags country_code  \\\n",
      "239    ['telekom', 'system-ipv4-stable-1d', 'system-i...           DE   \n",
      "409    ['mobile', '4g', 'lte', 'ipv4', 'nat', 'system...           CZ   \n",
      "453    ['system-ipv4-stable-1d', 'system-resolves-aaa...           BY   \n",
      "490    ['system-ipv6-stable-1d', 'system-ipv4-stable-...           CH   \n",
      "511    ['system-ipv4-stable-1d', 'system-resolves-aaa...           CH   \n",
      "...                                                  ...          ...   \n",
      "38016  ['system-ipv4-stable-1d', 't-mobile', 'system-...           US   \n",
      "38093  ['system-ipv4-stable-1d', 'system-ipv4-stable-...           JP   \n",
      "38098  ['system-ipv6-stable-1d', 'system-ipv4-stable-...           US   \n",
      "38178  ['system-ipv4-stable-1d', 'system-resolves-aaa...           US   \n",
      "38921  ['system-ipv6-stable-1d', 'system-ipv6-stable-...           AU   \n",
      "\n",
      "       latitude  longitude       day  \\\n",
      "239     48.0995    11.5285  20230130   \n",
      "409     49.1785    16.3875  20230130   \n",
      "453     53.8505    27.6395  20230130   \n",
      "490     47.5785     8.5215  20230130   \n",
      "511     46.3885     6.2475  20230130   \n",
      "...         ...        ...       ...   \n",
      "38016   30.1195   -81.4325  20230130   \n",
      "38093   35.5795   139.7115  20230130   \n",
      "38098   44.8805   -91.9185  20230130   \n",
      "38178   45.8415  -120.7095  20230130   \n",
      "38921  -33.6685   150.9415  20230130   \n",
      "\n",
      "                                               probe status_name  \n",
      "239    https://atlas.ripe.net/api/v2/probes/1000234/   Connected  \n",
      "409    https://atlas.ripe.net/api/v2/probes/1000402/   Connected  \n",
      "453    https://atlas.ripe.net/api/v2/probes/1000446/   Connected  \n",
      "490    https://atlas.ripe.net/api/v2/probes/1000483/   Connected  \n",
      "511    https://atlas.ripe.net/api/v2/probes/1000503/   Connected  \n",
      "...                                              ...         ...  \n",
      "38016    https://atlas.ripe.net/api/v2/probes/62505/   Connected  \n",
      "38093    https://atlas.ripe.net/api/v2/probes/62684/   Connected  \n",
      "38098    https://atlas.ripe.net/api/v2/probes/62696/   Connected  \n",
      "38178    https://atlas.ripe.net/api/v2/probes/62868/   Connected  \n",
      "38921      https://atlas.ripe.net/api/v2/probes/689/   Connected  \n",
      "\n",
      "[198 rows x 20 columns]\n"
     ]
    }
   ],
   "source": [
    "# Read the CSV file into a Pandas DataFrame\n",
    "df = pd.read_csv(\"20230130.csv\")\n",
    "\n",
    "# Filter the data to leave only the rows where \"status_name\" is \"Connected\"\n",
    "df = df[df[\"status_name\"] == \"Connected\"] \n",
    "# df = df[df[\"asn_v4\"] == 14593] \n",
    "\n",
    "tags = [\"lte\", \"4g\", \"mobile\", \"3g\"]\n",
    "df = df[df[\"tags\"].apply(lambda x: any(tag in x for tag in tags))]\n",
    "\n",
    "# Show the filtered data\n",
    "print(df)"
   ]
  },
  {
   "cell_type": "code",
   "execution_count": 71,
   "id": "3a640c91",
   "metadata": {},
   "outputs": [
    {
     "data": {
      "text/plain": [
       "array(['DE', 'CZ', 'BY', 'CH', 'SE', 'RU', 'LV', 'IT', 'NZ', 'JO', 'GB',\n",
       "       'US', 'AU', 'ID', 'FI', 'IN', 'SK', 'FR', 'CA', 'NL', 'HK', 'AT',\n",
       "       'NO', 'EE', 'ES', 'PL', 'BG', 'IR', 'JP', 'DK', 'CL', 'RO', 'GR',\n",
       "       'TN', 'KZ', 'MY', 'UA', 'IQ', 'RE', 'SI', 'SA', nan, 'MN', 'TR'],\n",
       "      dtype=object)"
      ]
     },
     "execution_count": 71,
     "metadata": {},
     "output_type": "execute_result"
    }
   ],
   "source": [
    "df[\"country_code\"].unique()"
   ]
  },
  {
   "cell_type": "markdown",
   "id": "1db74aa1",
   "metadata": {},
   "source": [
    "Europe"
   ]
  },
  {
   "cell_type": "code",
   "execution_count": 72,
   "id": "23e4c1c5",
   "metadata": {},
   "outputs": [
    {
     "data": {
      "text/plain": [
       "'1000234, 1000568, 1002075, 1002318, 1003425, 1004094, 1004571, 1004854, 24555, 25262, 25993, 26320, 2659, 28260, 30626, 3333, 33376, 33622, 34612, 50081, 50412, 50532, 53236, 53821, 55677, 62047'"
      ]
     },
     "execution_count": 72,
     "metadata": {},
     "output_type": "execute_result"
    }
   ],
   "source": [
    "df_de = df[df[\"country_code\"] == \"DE\"]\n",
    "# sample_de = df_de.sample(n=26, random_state=123)\n",
    "id_string_de = \", \".join(map(str, df_de[\"id\"]))\n",
    "id_string_de"
   ]
  },
  {
   "cell_type": "code",
   "execution_count": 73,
   "id": "72b11dd6",
   "metadata": {},
   "outputs": [
    {
     "data": {
      "text/plain": [
       "'1000879, 1003494, 33318, 3959, 50024, 52413, 54146'"
      ]
     },
     "execution_count": 73,
     "metadata": {},
     "output_type": "execute_result"
    }
   ],
   "source": [
    "df_ru = df[df[\"country_code\"] == \"RU\"]\n",
    "# sample_ru = df_ru.sample(n=10, random_state=123)\n",
    "id_string_ru = \", \".join(map(str, df_ru[\"id\"]))\n",
    "id_string_ru"
   ]
  },
  {
   "cell_type": "code",
   "execution_count": 74,
   "id": "45146f6e",
   "metadata": {},
   "outputs": [
    {
     "data": {
      "text/plain": [
       "'14842, 18565, 28761'"
      ]
     },
     "execution_count": 74,
     "metadata": {},
     "output_type": "execute_result"
    }
   ],
   "source": [
    "df_es = df[df[\"country_code\"] == \"ES\"]\n",
    "# sample_es = df_es.sample(n=10, random_state=123)\n",
    "id_string_es = \", \".join(map(str, df_es[\"id\"]))\n",
    "id_string_es"
   ]
  },
  {
   "cell_type": "code",
   "execution_count": 75,
   "id": "97a694bb",
   "metadata": {},
   "outputs": [
    {
     "data": {
      "text/plain": [
       "'26705, 29793, 50705, 54028'"
      ]
     },
     "execution_count": 75,
     "metadata": {},
     "output_type": "execute_result"
    }
   ],
   "source": [
    "df_dk = df[df[\"country_code\"] == \"DK\"]\n",
    "# sample_dk = df_dk.sample(n=10, random_state=123)\n",
    "id_string_dk = \", \".join(map(str, df_dk[\"id\"]))\n",
    "id_string_dk"
   ]
  },
  {
   "cell_type": "code",
   "execution_count": 76,
   "id": "f6175695",
   "metadata": {},
   "outputs": [
    {
     "data": {
      "text/plain": [
       "'1002421, 1002522, 1002683, 1004866, 51136, 53842, 54532, 54866, 55293'"
      ]
     },
     "execution_count": 76,
     "metadata": {},
     "output_type": "execute_result"
    }
   ],
   "source": [
    "df_gb = df[df[\"country_code\"] == \"GB\"]\n",
    "# sample_dk = df_dk.sample(n=10, random_state=123)\n",
    "id_string_gb = \", \".join(map(str, df_gb[\"id\"]))\n",
    "id_string_gb"
   ]
  },
  {
   "cell_type": "markdown",
   "id": "fd540cbb",
   "metadata": {},
   "source": [
    "North America"
   ]
  },
  {
   "cell_type": "code",
   "execution_count": 77,
   "id": "bd78678e",
   "metadata": {},
   "outputs": [
    {
     "data": {
      "text/plain": [
       "'1002591, 1002626, 1003040, 1004212, 1005000, 14226, 16790, 16896, 18667, 23036, 4069, 50180, 51459, 55018, 55630, 60162, 60435, 60605, 60822, 61113, 61785, 61816, 61868, 62505, 62696, 62868'"
      ]
     },
     "execution_count": 77,
     "metadata": {},
     "output_type": "execute_result"
    }
   ],
   "source": [
    "df_us = df[df[\"country_code\"] == \"US\"]\n",
    "# sample_us = df_us.sample(n=19, random_state=123)\n",
    "id_string_us = \", \".join(map(str, df_us[\"id\"]))\n",
    "id_string_us"
   ]
  },
  {
   "cell_type": "code",
   "execution_count": 78,
   "id": "c7731d9a",
   "metadata": {},
   "outputs": [
    {
     "data": {
      "text/plain": [
       "'1004821'"
      ]
     },
     "execution_count": 78,
     "metadata": {},
     "output_type": "execute_result"
    }
   ],
   "source": [
    "df_ca = df[df[\"country_code\"] == \"CA\"]\n",
    "# sample_ca = df_ca.sample(n=10, random_state=123)\n",
    "id_string_ca = \", \".join(map(str, df_ca[\"id\"]))\n",
    "id_string_ca"
   ]
  },
  {
   "cell_type": "markdown",
   "id": "3bfce375",
   "metadata": {},
   "source": [
    "Australia"
   ]
  },
  {
   "cell_type": "code",
   "execution_count": 79,
   "id": "6681227d",
   "metadata": {},
   "outputs": [
    {
     "data": {
      "text/plain": [
       "'1002682, 20825, 28477, 61689, 689'"
      ]
     },
     "execution_count": 79,
     "metadata": {},
     "output_type": "execute_result"
    }
   ],
   "source": [
    "df_au = df[df[\"country_code\"] == \"AU\"]\n",
    "# sample_au = df_au.sample(n=10, random_state=123)\n",
    "id_string_au = \", \".join(map(str, df_au[\"id\"]))\n",
    "id_string_au"
   ]
  },
  {
   "cell_type": "code",
   "execution_count": 80,
   "id": "f74198f0",
   "metadata": {},
   "outputs": [
    {
     "data": {
      "text/plain": [
       "'1002225'"
      ]
     },
     "execution_count": 80,
     "metadata": {},
     "output_type": "execute_result"
    }
   ],
   "source": [
    "df_nz = df[df[\"country_code\"] == \"NZ\"]\n",
    "# sample_au = df_au.sample(n=10, random_state=123)\n",
    "id_string_nz = \", \".join(map(str, df_nz[\"id\"]))\n",
    "id_string_nz"
   ]
  },
  {
   "cell_type": "markdown",
   "id": "42309387",
   "metadata": {},
   "source": [
    "Asia"
   ]
  },
  {
   "cell_type": "code",
   "execution_count": 81,
   "id": "f2e1d062",
   "metadata": {},
   "outputs": [
    {
     "data": {
      "text/plain": [
       "''"
      ]
     },
     "execution_count": 81,
     "metadata": {},
     "output_type": "execute_result"
    }
   ],
   "source": [
    "df_cn = df[df[\"country_code\"] == \"CN\"]\n",
    "# sample_cn = df_cn.sample(n=5, random_state=123)\n",
    "id_string_cn = \", \".join(map(str, df_cn[\"id\"]))\n",
    "id_string_cn"
   ]
  },
  {
   "cell_type": "code",
   "execution_count": 82,
   "id": "6686336a",
   "metadata": {},
   "outputs": [
    {
     "data": {
      "text/plain": [
       "'32473'"
      ]
     },
     "execution_count": 82,
     "metadata": {},
     "output_type": "execute_result"
    }
   ],
   "source": [
    "df_kz = df[df[\"country_code\"] == \"KZ\"]\n",
    "# sample_kz = df_kz.sample(n=5, random_state=123)\n",
    "id_string_kz = \", \".join(map(str, df_kz[\"id\"]))\n",
    "id_string_kz"
   ]
  },
  {
   "cell_type": "code",
   "execution_count": 83,
   "id": "fa8dd1ff",
   "metadata": {},
   "outputs": [
    {
     "data": {
      "text/plain": [
       "'1002932'"
      ]
     },
     "execution_count": 83,
     "metadata": {},
     "output_type": "execute_result"
    }
   ],
   "source": [
    "df_in = df[df[\"country_code\"] == \"IN\"]\n",
    "# sample_kz = df_kz.sample(n=5, random_state=123)\n",
    "id_string_in = \", \".join(map(str, df_in[\"id\"]))\n",
    "id_string_in"
   ]
  },
  {
   "cell_type": "code",
   "execution_count": 84,
   "id": "8dd374a3",
   "metadata": {},
   "outputs": [
    {
     "data": {
      "text/plain": [
       "'17602, 17789, 3457, 62684'"
      ]
     },
     "execution_count": 84,
     "metadata": {},
     "output_type": "execute_result"
    }
   ],
   "source": [
    "df_jp = df[df[\"country_code\"] == \"JP\"]\n",
    "# sample_kz = df_kz.sample(n=5, random_state=123)\n",
    "id_string_jp = \", \".join(map(str, df_jp[\"id\"]))\n",
    "id_string_jp"
   ]
  },
  {
   "cell_type": "markdown",
   "id": "12927c05",
   "metadata": {},
   "source": [
    "Africa"
   ]
  },
  {
   "cell_type": "code",
   "execution_count": 85,
   "id": "29f0edd3",
   "metadata": {},
   "outputs": [
    {
     "data": {
      "text/plain": [
       "''"
      ]
     },
     "execution_count": 85,
     "metadata": {},
     "output_type": "execute_result"
    }
   ],
   "source": [
    "df_ma = df[df[\"country_code\"] == \"MA\"]\n",
    "# sample_ma = df_ma.sample(n=3, random_state=123)\n",
    "id_string_ma = \", \".join(map(str, df_ma[\"id\"]))\n",
    "id_string_ma"
   ]
  },
  {
   "cell_type": "code",
   "execution_count": 86,
   "id": "72a7ea05",
   "metadata": {},
   "outputs": [
    {
     "data": {
      "text/plain": [
       "''"
      ]
     },
     "execution_count": 86,
     "metadata": {},
     "output_type": "execute_result"
    }
   ],
   "source": [
    "df_za = df[df[\"country_code\"] == \"ZA\"]\n",
    "# sample_za = df_za.sample(n=7, random_state=123)\n",
    "id_string_za = \", \".join(map(str, df_za[\"id\"]))\n",
    "id_string_za"
   ]
  },
  {
   "cell_type": "markdown",
   "id": "295049be",
   "metadata": {},
   "source": [
    "South America"
   ]
  },
  {
   "cell_type": "code",
   "execution_count": 87,
   "id": "706b6f47",
   "metadata": {},
   "outputs": [
    {
     "data": {
      "text/plain": [
       "'26834'"
      ]
     },
     "execution_count": 87,
     "metadata": {},
     "output_type": "execute_result"
    }
   ],
   "source": [
    "df_cl = df[df[\"country_code\"] == \"CL\"]\n",
    "# sample_co = df_co.sample(n=5, random_state=123)\n",
    "id_string_cl = \", \".join(map(str, df_cl[\"id\"]))\n",
    "id_string_cl"
   ]
  },
  {
   "cell_type": "code",
   "execution_count": 88,
   "id": "c50da387",
   "metadata": {},
   "outputs": [
    {
     "data": {
      "text/plain": [
       "''"
      ]
     },
     "execution_count": 88,
     "metadata": {},
     "output_type": "execute_result"
    }
   ],
   "source": [
    "df_ar = df[df[\"country_code\"] == \"AG\"]\n",
    "# sample_ar = df_ar.sample(n=5, random_state=123)\n",
    "id_string_ar = \", \".join(map(str, df_ar[\"id\"]))\n",
    "id_string_ar"
   ]
  },
  {
   "cell_type": "code",
   "execution_count": 89,
   "id": "9ea68ca0",
   "metadata": {},
   "outputs": [
    {
     "data": {
      "text/plain": [
       "'1002225, 1002932, 1000234, 1000568, 1002075, 1002318, 1003425, 1004094, 1004571, 1004854, 24555, 25262, 25993, 26320, 2659, 28260, 30626, 3333, 33376, 33622, 34612, 50081, 50412, 50532, 53236, 53821, 55677, 62047, 1002421, 1002522, 1002683, 1004866, 51136, 53842, 54532, 54866, 55293, 17602, 17789, 3457, 62684, 1000879, 1003494, 33318, 3959, 50024, 52413, 54146, 14842, 18565, 28761, 26705, 29793, 50705, 54028, 1002591, 1002626, 1003040, 1004212, 1005000, 14226, 16790, 16896, 18667, 23036, 4069, 50180, 51459, 55018, 55630, 60162, 60435, 60605, 60822, 61113, 61785, 61816, 61868, 62505, 62696, 62868, 1004821, 1002682, 20825, 28477, 61689, 689, , 32473, , , '"
      ]
     },
     "execution_count": 89,
     "metadata": {},
     "output_type": "execute_result"
    }
   ],
   "source": [
    "final_id_string = id_string_nz + \", \" + id_string_in + \", \" + id_string_de + \", \" + id_string_gb + \", \" + id_string_jp + \", \" + id_string_ru + \", \" + id_string_es + \", \" + id_string_dk + \", \" + id_string_us + \", \" + id_string_ca + \", \" + id_string_au + \", \" + id_string_cn + \", \" + id_string_kz + \", \" + id_string_ma + \", \" + id_string_za + \", \" + id_string_ar\n",
    "\n",
    "final_id_string"
   ]
  },
  {
   "cell_type": "code",
   "execution_count": 90,
   "id": "cb69a6b1",
   "metadata": {},
   "outputs": [
    {
     "name": "stdout",
     "output_type": "stream",
     "text": [
      "The request failed with status code: 403\n"
     ]
    }
   ],
   "source": [
    "import requests\n",
    "\n",
    "url = \"https://atlas.ripe.net/api/v2/measurements/49339537\"\n",
    "data = \"DELETE\"\n",
    "response = requests.post(url, data=data)\n",
    "\n",
    "if response.status_code == 200:\n",
    "    print(\"The request was successful\")\n",
    "else:\n",
    "    print(\"The request failed with status code:\", response.status_code)"
   ]
  },
  {
   "cell_type": "code",
   "execution_count": null,
   "id": "16c140ea",
   "metadata": {},
   "outputs": [],
   "source": []
  }
 ],
 "metadata": {
  "kernelspec": {
   "display_name": "Python 3",
   "language": "python",
   "name": "python3"
  },
  "language_info": {
   "codemirror_mode": {
    "name": "ipython",
    "version": 3
   },
   "file_extension": ".py",
   "mimetype": "text/x-python",
   "name": "python",
   "nbconvert_exporter": "python",
   "pygments_lexer": "ipython3",
   "version": "3.8.8"
  }
 },
 "nbformat": 4,
 "nbformat_minor": 5
}
